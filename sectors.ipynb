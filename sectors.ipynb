{
 "cells": [
  {
   "cell_type": "code",
   "execution_count": 1,
   "metadata": {},
   "outputs": [
    {
     "name": "stdout",
     "output_type": "stream",
     "text": [
      "Job Type                            Relative Exposure Level\n",
      "-------------------------------------------------------\n",
      "Transportation & Storage            High                \n",
      "Construction                        High                \n",
      "Utilities                           High                \n",
      "Food & Cash Crop Labour             High                \n",
      "Cultivators                         High                \n",
      "Mining and Quarrying                High                \n",
      "Trade (Non-HHI)                     Med                 \n",
      "Administration                      Low                 \n",
      "Manufacturing (Non-HHI)             Low                 \n",
      "Manufacturing (HHI)                 Low                 \n",
      "Hospitality & Dining                Med                 \n",
      "Other Food Production               Med                 \n",
      "Education, Health & Social Work     Low                 \n",
      "Arts and Other Sectors (Non-HHI)    Low                 \n",
      "Finance, Science & Other Tech       Low                 \n",
      "IT & Communication (Non-HHI)        Low                 \n",
      "Arts and Other Sectors (HHI)        Low                 \n",
      "Trade (HHI)                         Low                 \n",
      "IT & Communication (HHI)            Low                 \n"
     ]
    }
   ],
   "source": [
    "# Define the sectors with their attributes\n",
    "sectors = [\n",
    "    {\"Job Type\": \"Transportation & Storage\", \"Outdoor\": True, \"Physical\": True},\n",
    "    {\"Job Type\": \"Construction\", \"Outdoor\": True, \"Physical\": True},\n",
    "    {\"Job Type\": \"Utilities\", \"Outdoor\": True, \"Physical\": True},\n",
    "    {\"Job Type\": \"Food & Cash Crop Labour\", \"Outdoor\": True, \"Physical\": True},\n",
    "    {\"Job Type\": \"Cultivators\", \"Outdoor\": True, \"Physical\": True},\n",
    "    {\"Job Type\": \"Mining and Quarrying\", \"Outdoor\": True, \"Physical\": True},\n",
    "    {\"Job Type\": \"Trade (Non-HHI)\", \"Outdoor\": True, \"Physical\": False},\n",
    "    {\"Job Type\": \"Administration\", \"Outdoor\": False, \"Physical\": False},\n",
    "    {\"Job Type\": \"Manufacturing (Non-HHI)\", \"Outdoor\": False, \"Physical\": False},\n",
    "    {\"Job Type\": \"Manufacturing (HHI)\", \"Outdoor\": False, \"Physical\": False},\n",
    "    {\"Job Type\": \"Hospitality & Dining\", \"Outdoor\": False, \"Physical\": True},\n",
    "    {\"Job Type\": \"Other Food Production\", \"Outdoor\": False, \"Physical\": True},\n",
    "    {\"Job Type\": \"Education, Health & Social Work\", \"Outdoor\": False, \"Physical\": False},\n",
    "    {\"Job Type\": \"Arts and Other Sectors (Non-HHI)\", \"Outdoor\": False, \"Physical\": False},\n",
    "    {\"Job Type\": \"Finance, Science & Other Tech\", \"Outdoor\": False, \"Physical\": False},\n",
    "    {\"Job Type\": \"IT & Communication (Non-HHI)\", \"Outdoor\": False, \"Physical\": False},\n",
    "    {\"Job Type\": \"Arts and Other Sectors (HHI)\", \"Outdoor\": False, \"Physical\": False},\n",
    "    {\"Job Type\": \"Trade (HHI)\", \"Outdoor\": False, \"Physical\": False},\n",
    "    {\"Job Type\": \"IT & Communication (HHI)\", \"Outdoor\": False, \"Physical\": False},\n",
    "]\n",
    "\n",
    "# Function to determine exposure level\n",
    "def determine_exposure(outdoor, physical):\n",
    "    if outdoor and physical:\n",
    "        return \"High\"\n",
    "    elif outdoor or physical:\n",
    "        return \"Med\"\n",
    "    else:\n",
    "        return \"Low\"\n",
    "\n",
    "# Add exposure levels to each sector\n",
    "for sector in sectors:\n",
    "    sector[\"Relative Exposure Level\"] = determine_exposure(sector[\"Outdoor\"], sector[\"Physical\"])\n",
    "\n",
    "# Print results in tabular format\n",
    "print(f\"{'Job Type':<35} {'Relative Exposure Level':<20}\")\n",
    "print(\"-\" * 55)\n",
    "for sector in sectors:\n",
    "    print(f\"{sector['Job Type']:<35} {sector['Relative Exposure Level']:<20}\")\n"
   ]
  }
 ],
 "metadata": {
  "kernelspec": {
   "display_name": "base",
   "language": "python",
   "name": "python3"
  },
  "language_info": {
   "codemirror_mode": {
    "name": "ipython",
    "version": 3
   },
   "file_extension": ".py",
   "mimetype": "text/x-python",
   "name": "python",
   "nbconvert_exporter": "python",
   "pygments_lexer": "ipython3",
   "version": "3.12.3"
  }
 },
 "nbformat": 4,
 "nbformat_minor": 2
}
